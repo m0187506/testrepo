{
 "cells": [
  {
   "cell_type": "markdown",
   "metadata": {},
   "source": [
    "# My Jupyter Notebook on IBM Watson Studio "
   ]
  },
  {
   "cell_type": "markdown",
   "metadata": {},
   "source": [
    "**KyungJae Lee\n",
    "Graduate School Student**"
   ]
  },
  {
   "cell_type": "markdown",
   "metadata": {},
   "source": [
    "*As a pharmacist, my interest in data science is pretty natural. If you visit the hospital for any purposes, the doctors or nurses always collect the history, disease states, and medication information and gather them in their own system (depends on which hospital you go, the database that hospital use could be different). During my 6th year pharmacy clinical rotation (internship), I had an opportunity to work with a pharmacy informatics specialist whose main job was to collect/refine patient's data and up to date medicial information to come up with the best treatment option. And then this suggested option is forwarded to physicians, and they based on this suggestion, make the final decision on what to do on the patients. I thought this field was very intersting and promising so wanted to start dive into this.*"
   ]
  },
  {
   "cell_type": "markdown",
   "metadata": {},
   "source": [
    "In the next cell, the result should be 5"
   ]
  },
  {
   "cell_type": "code",
   "execution_count": null,
   "metadata": {},
   "outputs": [],
   "source": [
    "2+1+2"
   ]
  },
  {
   "attachments": {
    "AI.jpg": {
     "image/jpeg": "[encoded data removed]"
    }
   },
   "cell_type": "markdown",
   "metadata": {},
   "source": [
    "|Name||Age||Diagnosis|\n",
    "|---||----||---|\n",
    "|Sam||30||T1DM|\n",
    "|Jack||78||Prostate Cancer|\n",
    "|Sally||48||Hypertension| \n",
    "\n",
    "\n",
    "![AI.jpg](attachment:AI.jpg)\n",
    "\n",
    "\n",
    "* Four rules of thumb when the stoke is suspected are \"FAST\"\n",
    "<dt>1. Face: face is drooping.<dt>\n",
    "    2. A: arm weakness.<dt>\n",
    "    3. S: speech difficulty.<dt>\n",
    "    4. T: time to call for the ambulance.<dt>\n"
   ]
  },
  {
   "cell_type": "code",
   "execution_count": null,
   "metadata": {},
   "outputs": [],
   "source": []
  }
 ],
 "metadata": {
  "kernelspec": {
   "display_name": "Python 3",
   "language": "python",
   "name": "python3"
  },
  "language_info": {
   "codemirror_mode": {
    "name": "ipython",
    "version": 3
   },
   "file_extension": ".py",
   "mimetype": "text/x-python",
   "name": "python",
   "nbconvert_exporter": "python",
   "pygments_lexer": "ipython3",
   "version": "3.7.6"
  }
 },
 "nbformat": 4,
 "nbformat_minor": 4
}
